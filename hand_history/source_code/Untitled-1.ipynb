{
 "cells": [
  {
   "cell_type": "code",
   "execution_count": 2,
   "metadata": {},
   "outputs": [],
   "source": [
    "import pandas as pd"
   ]
  },
  {
   "cell_type": "code",
   "execution_count": 4,
   "metadata": {},
   "outputs": [
    {
     "data": {
      "text/html": [
       "<div>\n",
       "<style scoped>\n",
       "    .dataframe tbody tr th:only-of-type {\n",
       "        vertical-align: middle;\n",
       "    }\n",
       "\n",
       "    .dataframe tbody tr th {\n",
       "        vertical-align: top;\n",
       "    }\n",
       "\n",
       "    .dataframe thead th {\n",
       "        text-align: right;\n",
       "    }\n",
       "</style>\n",
       "<table border=\"1\" class=\"dataframe\">\n",
       "  <thead>\n",
       "    <tr style=\"text-align: right;\">\n",
       "      <th></th>\n",
       "      <th>logType</th>\n",
       "      <th>gameId</th>\n",
       "      <th>tableIdx</th>\n",
       "      <th>message</th>\n",
       "    </tr>\n",
       "  </thead>\n",
       "  <tbody>\n",
       "    <tr>\n",
       "      <th>0</th>\n",
       "      <td>G</td>\n",
       "      <td>HQzVOwExhC88FAnQT82dMPnu1Lvn17MR</td>\n",
       "      <td>0</td>\n",
       "      <td>[{'cmd': 'player', 'timestamp': 1741657301525,...</td>\n",
       "    </tr>\n",
       "    <tr>\n",
       "      <th>1</th>\n",
       "      <td>G</td>\n",
       "      <td>HQzVOwExhC88FAnQT82dMPnu1Lvn17MR</td>\n",
       "      <td>0</td>\n",
       "      <td>[{'cmd': 'player', 'timestamp': 1741657393119,...</td>\n",
       "    </tr>\n",
       "    <tr>\n",
       "      <th>2</th>\n",
       "      <td>G</td>\n",
       "      <td>HQzVOwExhC88FAnQT82dMPnu1Lvn17MR</td>\n",
       "      <td>0</td>\n",
       "      <td>[{'cmd': 'player', 'timestamp': 1741657465735,...</td>\n",
       "    </tr>\n",
       "    <tr>\n",
       "      <th>3</th>\n",
       "      <td>G</td>\n",
       "      <td>HQzVOwExhC88FAnQT82dMPnu1Lvn17MR</td>\n",
       "      <td>0</td>\n",
       "      <td>[{'cmd': 'player', 'timestamp': 1741657499169,...</td>\n",
       "    </tr>\n",
       "    <tr>\n",
       "      <th>4</th>\n",
       "      <td>G</td>\n",
       "      <td>MU874jHQaTKWKFqIYfaib48P73yH1ewq</td>\n",
       "      <td>0</td>\n",
       "      <td>[{'cmd': 'player', 'timestamp': 1741662159484,...</td>\n",
       "    </tr>\n",
       "    <tr>\n",
       "      <th>5</th>\n",
       "      <td>G</td>\n",
       "      <td>T_mD71shtMUTLKjxcLdOnTuhYR84OAGU</td>\n",
       "      <td>2</td>\n",
       "      <td>[{'cmd': 'player', 'timestamp': 1741672386798,...</td>\n",
       "    </tr>\n",
       "    <tr>\n",
       "      <th>6</th>\n",
       "      <td>G</td>\n",
       "      <td>T_mD71shtMUTLKjxcLdOnTuhYR84OAGU</td>\n",
       "      <td>2</td>\n",
       "      <td>[{'cmd': 'player', 'timestamp': 1741672396119,...</td>\n",
       "    </tr>\n",
       "    <tr>\n",
       "      <th>7</th>\n",
       "      <td>G</td>\n",
       "      <td>T_mD71shtMUTLKjxcLdOnTuhYR84OAGU</td>\n",
       "      <td>2</td>\n",
       "      <td>[{'cmd': 'player', 'timestamp': 1741672430232,...</td>\n",
       "    </tr>\n",
       "    <tr>\n",
       "      <th>8</th>\n",
       "      <td>G</td>\n",
       "      <td>T_mD71shtMUTLKjxcLdOnTuhYR84OAGU</td>\n",
       "      <td>2</td>\n",
       "      <td>[{'cmd': 'player', 'timestamp': 1741672439549,...</td>\n",
       "    </tr>\n",
       "    <tr>\n",
       "      <th>9</th>\n",
       "      <td>G</td>\n",
       "      <td>T_mD71shtMUTLKjxcLdOnTuhYR84OAGU</td>\n",
       "      <td>2</td>\n",
       "      <td>[{'cmd': 'player', 'timestamp': 1741672448868,...</td>\n",
       "    </tr>\n",
       "  </tbody>\n",
       "</table>\n",
       "</div>"
      ],
      "text/plain": [
       "  logType                            gameId  tableIdx  \\\n",
       "0       G  HQzVOwExhC88FAnQT82dMPnu1Lvn17MR         0   \n",
       "1       G  HQzVOwExhC88FAnQT82dMPnu1Lvn17MR         0   \n",
       "2       G  HQzVOwExhC88FAnQT82dMPnu1Lvn17MR         0   \n",
       "3       G  HQzVOwExhC88FAnQT82dMPnu1Lvn17MR         0   \n",
       "4       G  MU874jHQaTKWKFqIYfaib48P73yH1ewq         0   \n",
       "5       G  T_mD71shtMUTLKjxcLdOnTuhYR84OAGU         2   \n",
       "6       G  T_mD71shtMUTLKjxcLdOnTuhYR84OAGU         2   \n",
       "7       G  T_mD71shtMUTLKjxcLdOnTuhYR84OAGU         2   \n",
       "8       G  T_mD71shtMUTLKjxcLdOnTuhYR84OAGU         2   \n",
       "9       G  T_mD71shtMUTLKjxcLdOnTuhYR84OAGU         2   \n",
       "\n",
       "                                             message  \n",
       "0  [{'cmd': 'player', 'timestamp': 1741657301525,...  \n",
       "1  [{'cmd': 'player', 'timestamp': 1741657393119,...  \n",
       "2  [{'cmd': 'player', 'timestamp': 1741657465735,...  \n",
       "3  [{'cmd': 'player', 'timestamp': 1741657499169,...  \n",
       "4  [{'cmd': 'player', 'timestamp': 1741662159484,...  \n",
       "5  [{'cmd': 'player', 'timestamp': 1741672386798,...  \n",
       "6  [{'cmd': 'player', 'timestamp': 1741672396119,...  \n",
       "7  [{'cmd': 'player', 'timestamp': 1741672430232,...  \n",
       "8  [{'cmd': 'player', 'timestamp': 1741672439549,...  \n",
       "9  [{'cmd': 'player', 'timestamp': 1741672448868,...  "
      ]
     },
     "execution_count": 4,
     "metadata": {},
     "output_type": "execute_result"
    }
   ],
   "source": [
    "# 읽기, 데이터 확인\n",
    "df = pd.read_json('../data/target.json', lines=True)\n",
    "df.head(10)"
   ]
  },
  {
   "cell_type": "code",
   "execution_count": 6,
   "metadata": {},
   "outputs": [
    {
     "data": {
      "text/html": [
       "<div>\n",
       "<style scoped>\n",
       "    .dataframe tbody tr th:only-of-type {\n",
       "        vertical-align: middle;\n",
       "    }\n",
       "\n",
       "    .dataframe tbody tr th {\n",
       "        vertical-align: top;\n",
       "    }\n",
       "\n",
       "    .dataframe thead th {\n",
       "        text-align: right;\n",
       "    }\n",
       "</style>\n",
       "<table border=\"1\" class=\"dataframe\">\n",
       "  <thead>\n",
       "    <tr style=\"text-align: right;\">\n",
       "      <th></th>\n",
       "      <th>logType</th>\n",
       "      <th>gameId</th>\n",
       "      <th>tableIdx</th>\n",
       "      <th>message</th>\n",
       "    </tr>\n",
       "  </thead>\n",
       "  <tbody>\n",
       "    <tr>\n",
       "      <th>0</th>\n",
       "      <td>G</td>\n",
       "      <td>LIZxkQpQBRxOdJ1LJp0RijYvA70jWP23</td>\n",
       "      <td>0</td>\n",
       "      <td>[{'cmd': 'player', 'timestamp': 1741686820401,...</td>\n",
       "    </tr>\n",
       "    <tr>\n",
       "      <th>1</th>\n",
       "      <td>G</td>\n",
       "      <td>LIZxkQpQBRxOdJ1LJp0RijYvA70jWP23</td>\n",
       "      <td>0</td>\n",
       "      <td>[{'cmd': 'player', 'timestamp': 1741686843946,...</td>\n",
       "    </tr>\n",
       "    <tr>\n",
       "      <th>2</th>\n",
       "      <td>G</td>\n",
       "      <td>LIZxkQpQBRxOdJ1LJp0RijYvA70jWP23</td>\n",
       "      <td>0</td>\n",
       "      <td>[{'cmd': 'player', 'timestamp': 1741687060455,...</td>\n",
       "    </tr>\n",
       "    <tr>\n",
       "      <th>3</th>\n",
       "      <td>G</td>\n",
       "      <td>LIZxkQpQBRxOdJ1LJp0RijYvA70jWP23</td>\n",
       "      <td>0</td>\n",
       "      <td>[{'cmd': 'player', 'timestamp': 1741687078730,...</td>\n",
       "    </tr>\n",
       "    <tr>\n",
       "      <th>4</th>\n",
       "      <td>G</td>\n",
       "      <td>LIZxkQpQBRxOdJ1LJp0RijYvA70jWP23</td>\n",
       "      <td>0</td>\n",
       "      <td>[{'cmd': 'player', 'timestamp': 1741687122109,...</td>\n",
       "    </tr>\n",
       "  </tbody>\n",
       "</table>\n",
       "</div>"
      ],
      "text/plain": [
       "  logType                            gameId  tableIdx  \\\n",
       "0       G  LIZxkQpQBRxOdJ1LJp0RijYvA70jWP23         0   \n",
       "1       G  LIZxkQpQBRxOdJ1LJp0RijYvA70jWP23         0   \n",
       "2       G  LIZxkQpQBRxOdJ1LJp0RijYvA70jWP23         0   \n",
       "3       G  LIZxkQpQBRxOdJ1LJp0RijYvA70jWP23         0   \n",
       "4       G  LIZxkQpQBRxOdJ1LJp0RijYvA70jWP23         0   \n",
       "\n",
       "                                             message  \n",
       "0  [{'cmd': 'player', 'timestamp': 1741686820401,...  \n",
       "1  [{'cmd': 'player', 'timestamp': 1741686843946,...  \n",
       "2  [{'cmd': 'player', 'timestamp': 1741687060455,...  \n",
       "3  [{'cmd': 'player', 'timestamp': 1741687078730,...  \n",
       "4  [{'cmd': 'player', 'timestamp': 1741687122109,...  "
      ]
     },
     "execution_count": 6,
     "metadata": {},
     "output_type": "execute_result"
    }
   ],
   "source": [
    "# 보고싶은 gameId만 필터링\n",
    "filtered_df = df[df['gameId'] == 'LIZxkQpQBRxOdJ1LJp0RijYvA70jWP23']\n",
    "filtered_df = filtered_df.reset_index(drop=True)\n",
    "filtered_df = pd.DataFrame(filtered_df)\n",
    "filtered_df.head()"
   ]
  },
  {
   "cell_type": "code",
   "execution_count": 21,
   "metadata": {},
   "outputs": [
    {
     "name": "stdout",
     "output_type": "stream",
     "text": [
      "0    [{'cmd': 'player', 'timestamp': 1741686820401,...\n",
      "1    [{'cmd': 'player', 'timestamp': 1741686843946,...\n",
      "2    [{'cmd': 'player', 'timestamp': 1741687060455,...\n",
      "3    [{'cmd': 'player', 'timestamp': 1741687078730,...\n",
      "4    [{'cmd': 'player', 'timestamp': 1741687122109,...\n",
      "5    [{'cmd': 'player', 'timestamp': 1741687148761,...\n",
      "6    [{'cmd': 'player', 'timestamp': 1741687160736,...\n",
      "7    [{'cmd': 'player', 'timestamp': 1741687200026,...\n",
      "8    [{'cmd': 'player', 'timestamp': 1741687231752,...\n",
      "Name: message, dtype: object\n"
     ]
    }
   ],
   "source": [
    "print(filtered_df['message'])\n"
   ]
  },
  {
   "cell_type": "code",
   "execution_count": 25,
   "metadata": {},
   "outputs": [
    {
     "data": {
      "text/html": [
       "<div>\n",
       "<style scoped>\n",
       "    .dataframe tbody tr th:only-of-type {\n",
       "        vertical-align: middle;\n",
       "    }\n",
       "\n",
       "    .dataframe tbody tr th {\n",
       "        vertical-align: top;\n",
       "    }\n",
       "\n",
       "    .dataframe thead th {\n",
       "        text-align: right;\n",
       "    }\n",
       "</style>\n",
       "<table border=\"1\" class=\"dataframe\">\n",
       "  <thead>\n",
       "    <tr style=\"text-align: right;\">\n",
       "      <th></th>\n",
       "      <th>Poker Hand #RC3141728576: Hold'em No Limit ($0.05/$0.1) - 2024/12/12 13:20:13</th>\n",
       "    </tr>\n",
       "  </thead>\n",
       "  <tbody>\n",
       "    <tr>\n",
       "      <th>0</th>\n",
       "      <td>Table 'RushAndCash22323836' 6-max Seat #1 is t...</td>\n",
       "    </tr>\n",
       "    <tr>\n",
       "      <th>1</th>\n",
       "      <td>Seat 1: 727f0a35 ($13.75 in chips)</td>\n",
       "    </tr>\n",
       "    <tr>\n",
       "      <th>2</th>\n",
       "      <td>Seat 2: Hero ($10.54 in chips)</td>\n",
       "    </tr>\n",
       "    <tr>\n",
       "      <th>3</th>\n",
       "      <td>Seat 3: 73154d50 ($10 in chips)</td>\n",
       "    </tr>\n",
       "    <tr>\n",
       "      <th>4</th>\n",
       "      <td>Seat 4: ae2a34aa ($10.24 in chips)</td>\n",
       "    </tr>\n",
       "  </tbody>\n",
       "</table>\n",
       "</div>"
      ],
      "text/plain": [
       "  Poker Hand #RC3141728576: Hold'em No Limit ($0.05/$0.1) - 2024/12/12 13:20:13\n",
       "0  Table 'RushAndCash22323836' 6-max Seat #1 is t...                           \n",
       "1                 Seat 1: 727f0a35 ($13.75 in chips)                           \n",
       "2                     Seat 2: Hero ($10.54 in chips)                           \n",
       "3                    Seat 3: 73154d50 ($10 in chips)                           \n",
       "4                 Seat 4: ae2a34aa ($10.24 in chips)                           "
      ]
     },
     "execution_count": 25,
     "metadata": {},
     "output_type": "execute_result"
    }
   ],
   "source": [
    "hands_raw = pd.read_csv('../data/GG20241212-0336 - RushAndCash22323836 - 0.05 - 0.1 - 6max.txt')\n",
    "hands_raw.head()"
   ]
  },
  {
   "cell_type": "code",
   "execution_count": 26,
   "metadata": {},
   "outputs": [
    {
     "ename": "AttributeError",
     "evalue": "'DataFrame' object has no attribute 'strip'",
     "output_type": "error",
     "traceback": [
      "\u001b[31m---------------------------------------------------------------------------\u001b[39m",
      "\u001b[31mAttributeError\u001b[39m                            Traceback (most recent call last)",
      "\u001b[36mCell\u001b[39m\u001b[36m \u001b[39m\u001b[32mIn[26]\u001b[39m\u001b[32m, line 1\u001b[39m\n\u001b[32m----> \u001b[39m\u001b[32m1\u001b[39m hands_raw = \u001b[43mhands_raw\u001b[49m\u001b[43m.\u001b[49m\u001b[43mstrip\u001b[49m().split(\u001b[33m'\u001b[39m\u001b[38;5;130;01m\\n\u001b[39;00m\u001b[38;5;130;01m\\n\u001b[39;00m\u001b[33m'\u001b[39m)\n",
      "\u001b[36mFile \u001b[39m\u001b[32m~\\AppData\\Local\\Packages\\PythonSoftwareFoundation.Python.3.11_qbz5n2kfra8p0\\LocalCache\\local-packages\\Python311\\site-packages\\pandas\\core\\generic.py:5989\u001b[39m, in \u001b[36mNDFrame.__getattr__\u001b[39m\u001b[34m(self, name)\u001b[39m\n\u001b[32m   5982\u001b[39m \u001b[38;5;28;01mif\u001b[39;00m (\n\u001b[32m   5983\u001b[39m     name \u001b[38;5;129;01mnot\u001b[39;00m \u001b[38;5;129;01min\u001b[39;00m \u001b[38;5;28mself\u001b[39m._internal_names_set\n\u001b[32m   5984\u001b[39m     \u001b[38;5;129;01mand\u001b[39;00m name \u001b[38;5;129;01mnot\u001b[39;00m \u001b[38;5;129;01min\u001b[39;00m \u001b[38;5;28mself\u001b[39m._metadata\n\u001b[32m   5985\u001b[39m     \u001b[38;5;129;01mand\u001b[39;00m name \u001b[38;5;129;01mnot\u001b[39;00m \u001b[38;5;129;01min\u001b[39;00m \u001b[38;5;28mself\u001b[39m._accessors\n\u001b[32m   5986\u001b[39m     \u001b[38;5;129;01mand\u001b[39;00m \u001b[38;5;28mself\u001b[39m._info_axis._can_hold_identifiers_and_holds_name(name)\n\u001b[32m   5987\u001b[39m ):\n\u001b[32m   5988\u001b[39m     \u001b[38;5;28;01mreturn\u001b[39;00m \u001b[38;5;28mself\u001b[39m[name]\n\u001b[32m-> \u001b[39m\u001b[32m5989\u001b[39m \u001b[38;5;28;01mreturn\u001b[39;00m \u001b[38;5;28;43mobject\u001b[39;49m\u001b[43m.\u001b[49m\u001b[34;43m__getattribute__\u001b[39;49m\u001b[43m(\u001b[49m\u001b[38;5;28;43mself\u001b[39;49m\u001b[43m,\u001b[49m\u001b[43m \u001b[49m\u001b[43mname\u001b[49m\u001b[43m)\u001b[49m\n",
      "\u001b[31mAttributeError\u001b[39m: 'DataFrame' object has no attribute 'strip'"
     ]
    }
   ],
   "source": [
    "hands_raw = hands_raw.strip().split('\\n\\n')"
   ]
  },
  {
   "cell_type": "code",
   "execution_count": null,
   "metadata": {},
   "outputs": [],
   "source": []
  }
 ],
 "metadata": {
  "kernelspec": {
   "display_name": "Python 3",
   "language": "python",
   "name": "python3"
  },
  "language_info": {
   "codemirror_mode": {
    "name": "ipython",
    "version": 3
   },
   "file_extension": ".py",
   "mimetype": "text/x-python",
   "name": "python",
   "nbconvert_exporter": "python",
   "pygments_lexer": "ipython3",
   "version": "3.11.9"
  }
 },
 "nbformat": 4,
 "nbformat_minor": 2
}
